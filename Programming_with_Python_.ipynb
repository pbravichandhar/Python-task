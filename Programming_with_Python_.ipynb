{
  "nbformat": 4,
  "nbformat_minor": 0,
  "metadata": {
    "colab": {
      "name": "Programming with Python .ipynb",
      "provenance": [],
      "collapsed_sections": [],
      "toc_visible": true,
      "authorship_tag": "ABX9TyNFdqC1AT6PO1chk+LmT+fg",
      "include_colab_link": true
    },
    "kernelspec": {
      "name": "python3",
      "display_name": "Python 3"
    },
    "language_info": {
      "name": "python"
    }
  },
  "cells": [
    {
      "cell_type": "markdown",
      "metadata": {
        "id": "view-in-github",
        "colab_type": "text"
      },
      "source": [
        "<a href=\"https://colab.research.google.com/github/pbravichandhar/Python-task/blob/master/Programming_with_Python_.ipynb\" target=\"_parent\"><img src=\"https://colab.research.google.com/assets/colab-badge.svg\" alt=\"Open In Colab\"/></a>"
      ]
    },
    {
      "cell_type": "code",
      "metadata": {
        "id": "-b7XQs1gEbJe"
      },
      "source": [
        ""
      ],
      "execution_count": null,
      "outputs": []
    },
    {
      "cell_type": "markdown",
      "metadata": {
        "id": "4JPAEZJiFdR5"
      },
      "source": [
        "# Section 1 - Variable, Strings, Operators\n",
        "(Variable, Strings, Operators)"
      ]
    },
    {
      "cell_type": "code",
      "metadata": {
        "id": "NEbXGDX4F1B6"
      },
      "source": [
        "price = 10  # integer\n",
        "rating = 4.9 # float\n",
        "course_name = 'Python for Beginners'\n",
        "is_published = True # boolean\n",
        "\n",
        "print(price,rating, course_name, is_published)"
      ],
      "execution_count": null,
      "outputs": []
    },
    {
      "cell_type": "code",
      "metadata": {
        "id": "E7xfVBS8GCHX"
      },
      "source": [
        "birth_year = int(input('Please enter your birth year'))\n",
        "\n",
        "print(f'Hi, your birth year is {birth_year}')\n"
      ],
      "execution_count": null,
      "outputs": []
    },
    {
      "cell_type": "code",
      "metadata": {
        "id": "l9ubH-NTGg4D"
      },
      "source": [
        "\n",
        "course_name = 'Python for Beginners'\n",
        "print(course_name[0]) # returns the first character \n",
        "print(course_name[1])# returns the second character \n",
        "print(course_name[-1]) # returns the first character from the end \n",
        "print(course_name[-2]) # returns the second character from the end\n"
      ],
      "execution_count": null,
      "outputs": []
    },
    {
      "cell_type": "code",
      "metadata": {
        "colab": {
          "base_uri": "https://localhost:8080/"
        },
        "id": "nK9LvhBSGh-C",
        "outputId": "edd92a88-5f22-48e4-9c91-b4626a21679c"
      },
      "source": [
        "\n",
        "name = 'Ravi' \n",
        "message = f'Hi, my name is {name} Letter - p' \n",
        "print('upper()=>', message.upper()) # to convert to uppercase \n",
        "print('lower()=>', message.lower()) # to convert to lowercase \n",
        "print('title()=>', message.title()) # to capitalize the first letter of every word \n",
        "print('find()=>', message.find('p')) # returns the index of the first occurrence of p (or -1 if not found) \n",
        "print('replace()=>', message.replace('p', 'q') )# To check if a string contains a chara"
      ],
      "execution_count": 5,
      "outputs": [
        {
          "output_type": "stream",
          "name": "stdout",
          "text": [
            "upper()=> HI, MY NAME IS RAVI LETTER - P\n",
            "lower()=> hi, my name is ravi letter - p\n",
            "title()=> Hi, My Name Is Ravi Letter - P\n",
            "find()=> 29\n",
            "replace()=> Hi, my name is Ravi Letter - q\n"
          ]
        }
      ]
    },
    {
      "cell_type": "code",
      "metadata": {
        "colab": {
          "base_uri": "https://localhost:8080/"
        },
        "id": "6mfNebr3Hnn5",
        "outputId": "a81f258a-4491-4ebb-dff6-05469efe38de"
      },
      "source": [
        "a = 7 \n",
        "b = 8\n",
        "\n",
        "print(f'Addition {a} and {b} =>',a+b)\n",
        "print(f'Subtraction {a} and {b} =>',a-b)\n",
        "print(f'Multiplication {a} and {b} =>',a*b)\n",
        "print(f'Division {a} and {b} =>',a/b)\n",
        "print(f'Division {a} and {b} =>',a//b)\n",
        "print(f'Modulo {a} and {b} =>',a%b)\n",
        "print(f'Exp {a} and {b} =>',a**b)"
      ],
      "execution_count": 7,
      "outputs": [
        {
          "output_type": "stream",
          "name": "stdout",
          "text": [
            "Addition 7 and 8 => 15\n",
            "Subtraction 7 and 8 => -1\n",
            "Multiplication 7 and 8 => 56\n",
            "Division 7 and 8 => 0.875\n",
            "Division 7 and 8 => 0\n",
            "Modulo 7 and 8 => 7\n",
            "Exp 7 and 8 => 5764801\n"
          ]
        }
      ]
    },
    {
      "cell_type": "markdown",
      "metadata": {
        "id": "48jhWu88Fd5f"
      },
      "source": [
        "# Section 2 - Dictionary, Tuples, List\n",
        "\n",
        "(Dictionary, Tuples, List\n",
        ")"
      ]
    },
    {
      "cell_type": "code",
      "metadata": {
        "colab": {
          "base_uri": "https://localhost:8080/"
        },
        "id": "2IGbuK37JLt8",
        "outputId": "2063ce98-16d5-421e-b4ac-078a0a20103b"
      },
      "source": [
        "\n",
        "# Dictionary (JSON)\n",
        "\n",
        "customer = { \n",
        "  \"name\": \"Ravi Chandhar\",\n",
        "  \"email\": \"ravifabulous471@gmail.com\", \n",
        "  \"is_verified\": True,\n",
        "  \"phone_no\": 9123456789\n",
        "}\n",
        "\n",
        "print(customer[\"name\"]) # returns \"Ravi\" \n",
        "# customer[\"type\"] # throws an error \n",
        "print(customer.get(\"type\", \"silver\")) # returns \"silver\" \n",
        "customer[\"name\"] = \"Dhoni\"\n",
        "\n",
        "print(customer)\n",
        "\n"
      ],
      "execution_count": 11,
      "outputs": [
        {
          "output_type": "stream",
          "name": "stdout",
          "text": [
            "Ravi Chandhar\n",
            "silver\n",
            "{'name': 'Dhoni', 'email': 'ravifabulous471@gmail.com', 'is_verified': True, 'phone_no': 9123456789}\n"
          ]
        }
      ]
    },
    {
      "cell_type": "code",
      "metadata": {
        "colab": {
          "base_uri": "https://localhost:8080/"
        },
        "id": "PU4EQtsWKnub",
        "outputId": "41e882f9-190f-4ea2-ef8a-3fde8c706eb6"
      },
      "source": [
        "# Lists (Array)\n",
        "\n",
        "numbers = [1, 2, 3, 4, 5] \n",
        "\n",
        "print(\"numbers[0] =>\", numbers[0]) # returns the first item numbers[1] # returns the second item \n",
        "print(\"numbers[-1] =>\", numbers[-1]) # returns the first item from the end \n",
        "print(\"numbers[-1] =>\", numbers[-2]) # returns the second item from the end \n",
        "\n",
        "\n"
      ],
      "execution_count": 12,
      "outputs": [
        {
          "output_type": "stream",
          "name": "stdout",
          "text": [
            "numbers[0] => 1\n",
            "numbers[-1] => 5\n",
            "numbers[-1] => 4\n"
          ]
        }
      ]
    },
    {
      "cell_type": "code",
      "metadata": {
        "colab": {
          "base_uri": "https://localhost:8080/"
        },
        "id": "u-gTi604LKVO",
        "outputId": "a03f2c3b-4dfa-4095-cfe6-3a6cbc51ee8c"
      },
      "source": [
        "numbers = [1, 2, 3, 4, 5] \n",
        "\n",
        "numbers.append(6) # adds 6 to the end \n",
        "\n",
        "print(\"After append(6) =>\", numbers)\n",
        "\n",
        "numbers.insert(0, 25) # adds 6 at index position of 0 \n",
        "\n",
        "print(\"After insert(0, 25) =>\", numbers)\n",
        "\n",
        "numbers.remove(6) # removes 6 \n",
        "\n",
        "print(\"After remove(6) =>\", numbers)\n",
        "\n",
        "print(numbers)\n",
        "\n",
        "numbers.pop() # removes the last item \n",
        "\n",
        "print(\"After pop =>\", numbers)\n",
        "numbers.clear() # removes all the items \n",
        "\n",
        "print(\"After clear() =>\", numbers)\n",
        "\n",
        "numbers = [1, 24, 30, 2, 3, 4, 5] \n",
        "\n",
        "numbers.index(1) # returns the index of first occurrence of 8 \n",
        "numbers.sort() # sorts the list \n",
        "\n",
        "print(\"After sort() =>\", numbers)\n",
        "\n",
        "numbers.reverse() # reverses the list numbers.copy() # returns a copy of the list \n",
        "\n",
        "print(\"After reverse() =>\", numbers)"
      ],
      "execution_count": 15,
      "outputs": [
        {
          "output_type": "stream",
          "name": "stdout",
          "text": [
            "After append(6) => [1, 2, 3, 4, 5, 6]\n",
            "After insert(0, 25) => [25, 1, 2, 3, 4, 5, 6]\n",
            "After remove(6) => [25, 1, 2, 3, 4, 5]\n",
            "[25, 1, 2, 3, 4, 5]\n",
            "After pop => [25, 1, 2, 3, 4]\n",
            "After clear() => []\n",
            "After sort() => [1, 2, 3, 4, 5, 24, 30]\n",
            "After reverse() => [30, 24, 5, 4, 3, 2, 1]\n"
          ]
        }
      ]
    },
    {
      "cell_type": "code",
      "metadata": {
        "colab": {
          "base_uri": "https://localhost:8080/"
        },
        "id": "Hmi8MDWvMJbc",
        "outputId": "972a845b-a9ad-494a-e783-a9a42bd6b0e9"
      },
      "source": [
        "# Tuple\n",
        "\n",
        "tup = (1,2,3,4,5)\n",
        "\n",
        "print(tup)\n",
        "\n",
        "# tup.pop()\n",
        "\n",
        "tup = (1,2,3)\n",
        "print(tup)"
      ],
      "execution_count": 20,
      "outputs": [
        {
          "output_type": "stream",
          "name": "stdout",
          "text": [
            "(1, 2, 3, 4, 5)\n",
            "(1, 2, 3)\n"
          ]
        }
      ]
    },
    {
      "cell_type": "markdown",
      "metadata": {
        "id": "0X_aoz90Mgl3"
      },
      "source": [
        "# Section 3 - Statements\n",
        "\n"
      ]
    },
    {
      "cell_type": "code",
      "metadata": {
        "id": "gJdYe7EkMkdN"
      },
      "source": [
        "server = 'biriyani'\n",
        "\n",
        "if server == 'biriyani':\n",
        "    print('Ummmm, my favorite!')\n",
        "\n"
      ],
      "execution_count": null,
      "outputs": []
    },
    {
      "cell_type": "code",
      "metadata": {
        "id": "szCOC9h8NPeb"
      },
      "source": [
        "server = 'Veg rice'\n",
        "\n",
        "if food == 'biriyani':\n",
        "    print('Ummmm, my favorite!')\n",
        "else:\n",
        "    print(\"No, I won't have it. I want spam!\")\n",
        "\n"
      ],
      "execution_count": null,
      "outputs": []
    },
    {
      "cell_type": "code",
      "metadata": {
        "colab": {
          "base_uri": "https://localhost:8080/"
        },
        "id": "Xlbr60HiNQgK",
        "outputId": "e02d4d91-7678-4d23-a84f-6686d111cc60"
      },
      "source": [
        "for friend in ['Ravi', 'Surender', 'Suriyan']:\n",
        "    invitation = \"Hi \" + friend + \".  Please come to my party on Saturday!\"\n",
        "    print(invitation)"
      ],
      "execution_count": 21,
      "outputs": [
        {
          "output_type": "stream",
          "name": "stdout",
          "text": [
            "Hi Ravi.  Please come to my party on Saturday!\n",
            "Hi Surender.  Please come to my party on Saturday!\n",
            "Hi Suriyan.  Please come to my party on Saturday!\n"
          ]
        }
      ]
    },
    {
      "cell_type": "code",
      "metadata": {
        "colab": {
          "base_uri": "https://localhost:8080/"
        },
        "id": "ecphLIQVN-fd",
        "outputId": "c3735a56-0219-42eb-c187-cb3b6902d6a6"
      },
      "source": [
        "name = 'Ravi'\n",
        "guess = input(\"So I'm thinking of person's name. Try to guess it: \")\n",
        "pos = 0\n",
        "\n",
        "while guess != name and pos < len(name):\n",
        "    print(\"Nope, that's not it! Hint: letter \", end='')\n",
        "    print(pos + 1, \"is\", name[pos] + \". \", end='')\n",
        "    guess = input(\"Guess again: \")\n",
        "    pos = pos + 1\n",
        "\n",
        "if pos == len(name) and name != guess:\n",
        "    print(\"Too bad, you couldn't get it.  The name was\", name + \".\")\n",
        "else:\n",
        "    print(\"\\nGreat, you got it in\", pos + 1,  \"guesses!\")"
      ],
      "execution_count": 23,
      "outputs": [
        {
          "output_type": "stream",
          "name": "stdout",
          "text": [
            "So I'm thinking of person's name. Try to guess it: 1\n",
            "Nope, that's not it! Hint: letter 1 is R. Guess again: Ravi\n",
            "\n",
            "Great, you got it in 2 guesses!\n"
          ]
        }
      ]
    },
    {
      "cell_type": "markdown",
      "metadata": {
        "id": "EoNxnCJuMgtM"
      },
      "source": [
        "# Section 4 - Error, Oops, packages\n",
        "\n"
      ]
    },
    {
      "cell_type": "code",
      "metadata": {
        "colab": {
          "base_uri": "https://localhost:8080/"
        },
        "id": "v_q277MsOLsR",
        "outputId": "2ced31a6-ec7f-4b14-a565-c49303eedea0"
      },
      "source": [
        "try: \n",
        "  age = int(input('Age: ')) \n",
        "  income = 20000 \n",
        "  risk = income / age \n",
        "  print(risk) \n",
        "except ValueError: \n",
        "  print('Not a valid number') \n",
        "except ZeroDivisionError: \n",
        "  print('Age cannot be 0')\n"
      ],
      "execution_count": 27,
      "outputs": [
        {
          "output_type": "stream",
          "name": "stdout",
          "text": [
            "Age: 0\n",
            "Age cannot be 0\n"
          ]
        }
      ]
    },
    {
      "cell_type": "code",
      "metadata": {
        "colab": {
          "base_uri": "https://localhost:8080/"
        },
        "id": "RcWQpNbJOh_R",
        "outputId": "c6793218-22ce-4ae9-9b42-d5f6fbd2d6ce"
      },
      "source": [
        "# We use classes to define new types. \n",
        "\n",
        "class Point: \n",
        "  def __init__(self, x, y): \n",
        "    self.x = x \n",
        "    self.y = y \n",
        "  def move(self): \n",
        "      print(\"move\", self.x, self.y) \n",
        "\n",
        "point1 = Point(10, 5) \n",
        "point2 = Point(1, 2) \n",
        "\n",
        "\n",
        "print(\"Calling point1 move =>\")\n",
        "point1.move()\n",
        "\n",
        "print(\"Calling point2 move =>\")\n",
        "point2.move()\n"
      ],
      "execution_count": 33,
      "outputs": [
        {
          "output_type": "stream",
          "name": "stdout",
          "text": [
            "Calling point1 move =>\n",
            "move 10 5\n",
            "Calling point2 move =>\n",
            "move 1 2\n"
          ]
        }
      ]
    },
    {
      "cell_type": "code",
      "metadata": {
        "colab": {
          "base_uri": "https://localhost:8080/"
        },
        "id": "hcLkzz-5PbBx",
        "outputId": "7f5c8762-0e69-4742-f455-a9dbf1df4348"
      },
      "source": [
        "class Mammal: \n",
        "  def walk(self): \n",
        "      print(\"walk\") \n",
        "class Dog(Mammal): \n",
        "  def bark(self): \n",
        "      print(\"bark\") \n",
        "\n",
        "dog = Dog() \n",
        "dog.walk() # inherited from Mammal  \n",
        "dog.bark() # defined in Dog \n"
      ],
      "execution_count": 35,
      "outputs": [
        {
          "output_type": "stream",
          "name": "stdout",
          "text": [
            "walk\n",
            "bark\n"
          ]
        }
      ]
    },
    {
      "cell_type": "code",
      "metadata": {
        "colab": {
          "base_uri": "https://localhost:8080/"
        },
        "id": "l1T1McuoPzLb",
        "outputId": "f6d9cafe-ed82-45d6-d38a-274f377fbacf"
      },
      "source": [
        "import random \n",
        "random.random() # returns a float between 0 to 1 random.randint(1, 6) # returns an int between 1 to 6 \n",
        "\n",
        "\n",
        "print('random.random() =>', random.random())\n",
        "\n",
        "members = ['John', 'Bob', 'Mary', 'Ravi', 'Jack', 'Jill'] \n",
        "\n",
        "leader = random.choice(members) # randomly  picks an item\n",
        "\n",
        "\n",
        "print(\"random.choice(members) => \", leader)"
      ],
      "execution_count": 49,
      "outputs": [
        {
          "output_type": "stream",
          "name": "stdout",
          "text": [
            "random.random() => 0.9879933065657279\n",
            "random.choice(members) =>  Mary\n"
          ]
        }
      ]
    },
    {
      "cell_type": "markdown",
      "metadata": {
        "id": "aS8f5iiuRuNe"
      },
      "source": [
        "# Problem Solving - Tic Tac Toe"
      ]
    },
    {
      "cell_type": "markdown",
      "metadata": {
        "id": "k5UrRlrUVxts"
      },
      "source": [
        "**Game Rules**\n",
        "1. Traditionally the first player plays with \"X\". So you can decide who wants to go with \"X\" and who wants to go with \"O\".\n",
        "2. Only one player can play at a time.\n",
        "3. If any of the players have filled a square then the other player and the same player cannot override that square.\n",
        "4. There are only two conditions that may match will be draw or may win.\n",
        "5. The player that succeeds in placing three respective marks (X or O) in a horizontal, vertical, or diagonal row wins the game."
      ]
    },
    {
      "cell_type": "code",
      "metadata": {
        "colab": {
          "base_uri": "https://localhost:8080/"
        },
        "id": "YeZSzNmSVyb3",
        "outputId": "965d5407-0fdf-4cc1-b7b0-b8f25d433cd9"
      },
      "source": [
        "import os    \n",
        "import time    \n",
        "    \n",
        "board = [' ',' ',' ',' ',' ',' ',' ',' ',' ',' ']    \n",
        "player = 1    \n",
        "   \n",
        "########win Flags##########    \n",
        "Win = 1    \n",
        "Draw = -1    \n",
        "Running = 0    \n",
        "Stop = 1    \n",
        "###########################    \n",
        "Game = Running    \n",
        "Mark = 'X'    \n",
        "   \n",
        "#This Function Draws Game Board    \n",
        "def DrawBoard():    \n",
        "    print(\" %c | %c | %c \" % (board[1],board[2],board[3]))    \n",
        "    print(\"___|___|___\")    \n",
        "    print(\" %c | %c | %c \" % (board[4],board[5],board[6]))    \n",
        "    print(\"___|___|___\")    \n",
        "    print(\" %c | %c | %c \" % (board[7],board[8],board[9]))    \n",
        "    print(\"   |   |   \")    \n",
        "   \n",
        "#This Function Checks position is empty or not    \n",
        "def CheckPosition(x):    \n",
        "    if(board[x] == ' '):    \n",
        "        return True    \n",
        "    else:    \n",
        "        return False    \n",
        "   \n",
        "#This Function Checks player has won or not    \n",
        "def CheckWin():    \n",
        "    global Game    \n",
        "    #Horizontal winning condition    \n",
        "    if(board[1] == board[2] and board[2] == board[3] and board[1] != ' '):    \n",
        "        Game = Win    \n",
        "    elif(board[4] == board[5] and board[5] == board[6] and board[4] != ' '):    \n",
        "        Game = Win    \n",
        "    elif(board[7] == board[8] and board[8] == board[9] and board[7] != ' '):    \n",
        "        Game = Win    \n",
        "    #Vertical Winning Condition    \n",
        "    elif(board[1] == board[4] and board[4] == board[7] and board[1] != ' '):    \n",
        "        Game = Win    \n",
        "    elif(board[2] == board[5] and board[5] == board[8] and board[2] != ' '):    \n",
        "        Game = Win    \n",
        "    elif(board[3] == board[6] and board[6] == board[9] and board[3] != ' '):    \n",
        "        Game=Win    \n",
        "    #Diagonal Winning Condition    \n",
        "    elif(board[1] == board[5] and board[5] == board[9] and board[5] != ' '):    \n",
        "        Game = Win    \n",
        "    elif(board[3] == board[5] and board[5] == board[7] and board[5] != ' '):    \n",
        "        Game=Win    \n",
        "    #Match Tie or Draw Condition    \n",
        "    elif(board[1]!=' ' and board[2]!=' ' and board[3]!=' ' and board[4]!=' ' and board[5]!=' ' and board[6]!=' ' and board[7]!=' ' and board[8]!=' ' and board[9]!=' '):    \n",
        "        Game=Draw    \n",
        "    else:            \n",
        "        Game=Running    \n",
        "    \n",
        "print(\"Tic-Tac-Toe Game Designed By Ravi Chandhar\")    \n",
        "print(\"Player 1 [X] --- Player 2 [O]\\n\")    \n",
        "print()    \n",
        "print()    \n",
        "print(\"Please Wait...\")    \n",
        "time.sleep(3)    \n",
        "while(Game == Running):    \n",
        "    os.system('cls')    \n",
        "    DrawBoard()    \n",
        "    if(player % 2 != 0):    \n",
        "        print(\"Player 1's chance\")    \n",
        "        Mark = 'X'    \n",
        "    else:    \n",
        "        print(\"Player 2's chance\")    \n",
        "        Mark = 'O'    \n",
        "    choice = int(input(\"Enter the position between [1-9] where you want to mark : \"))    \n",
        "    if(CheckPosition(choice)):    \n",
        "        board[choice] = Mark    \n",
        "        player+=1    \n",
        "        CheckWin()    \n",
        "    \n",
        "os.system('cls')    \n",
        "DrawBoard()    \n",
        "if(Game==Draw):    \n",
        "    print(\"Game Draw\")    \n",
        "elif(Game==Win):    \n",
        "    player-=1    \n",
        "    if(player%2!=0):    \n",
        "        print(\"Player 1 Won\")    \n",
        "    else:    \n",
        "        print(\"Player 2 Won\")  "
      ],
      "execution_count": 51,
      "outputs": [
        {
          "output_type": "stream",
          "name": "stdout",
          "text": [
            "Tic-Tac-Toe Game Designed By Ravi Chandhar\n",
            "Player 1 [X] --- Player 2 [O]\n",
            "\n",
            "\n",
            "\n",
            "Please Wait...\n",
            "   |   |   \n",
            "___|___|___\n",
            "   |   |   \n",
            "___|___|___\n",
            "   |   |   \n",
            "   |   |   \n",
            "Player 1's chance\n",
            "Enter the position between [1-9] where you want to mark : 1\n",
            " X |   |   \n",
            "___|___|___\n",
            "   |   |   \n",
            "___|___|___\n",
            "   |   |   \n",
            "   |   |   \n",
            "Player 2's chance\n",
            "Enter the position between [1-9] where you want to mark : 2\n",
            " X | O |   \n",
            "___|___|___\n",
            "   |   |   \n",
            "___|___|___\n",
            "   |   |   \n",
            "   |   |   \n",
            "Player 1's chance\n",
            "Enter the position between [1-9] where you want to mark : 5\n",
            " X | O |   \n",
            "___|___|___\n",
            "   | X |   \n",
            "___|___|___\n",
            "   |   |   \n",
            "   |   |   \n",
            "Player 2's chance\n",
            "Enter the position between [1-9] where you want to mark : 6\n",
            " X | O |   \n",
            "___|___|___\n",
            "   | X | O \n",
            "___|___|___\n",
            "   |   |   \n",
            "   |   |   \n",
            "Player 1's chance\n",
            "Enter the position between [1-9] where you want to mark : 8\n",
            " X | O |   \n",
            "___|___|___\n",
            "   | X | O \n",
            "___|___|___\n",
            "   | X |   \n",
            "   |   |   \n",
            "Player 2's chance\n",
            "Enter the position between [1-9] where you want to mark : 6\n",
            " X | O |   \n",
            "___|___|___\n",
            "   | X | O \n",
            "___|___|___\n",
            "   | X |   \n",
            "   |   |   \n",
            "Player 2's chance\n",
            "Enter the position between [1-9] where you want to mark : 6\n",
            " X | O |   \n",
            "___|___|___\n",
            "   | X | O \n",
            "___|___|___\n",
            "   | X |   \n",
            "   |   |   \n",
            "Player 2's chance\n",
            "Enter the position between [1-9] where you want to mark : 7\n",
            " X | O |   \n",
            "___|___|___\n",
            "   | X | O \n",
            "___|___|___\n",
            " O | X |   \n",
            "   |   |   \n",
            "Player 1's chance\n",
            "Enter the position between [1-9] where you want to mark : 9\n",
            " X | O |   \n",
            "___|___|___\n",
            "   | X | O \n",
            "___|___|___\n",
            " O | X | X \n",
            "   |   |   \n",
            "Player 1 Won\n"
          ]
        }
      ]
    }
  ]
}